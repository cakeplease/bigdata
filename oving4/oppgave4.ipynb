{
 "cells": [
  {
   "cell_type": "code",
   "execution_count": 151,
   "id": "05683d7b",
   "metadata": {},
   "outputs": [
    {
     "name": "stdout",
     "output_type": "stream",
     "text": [
      "[[98  3]\n",
      " [ 3 36]]\n"
     ]
    }
   ],
   "source": [
    "import pandas as pd\n",
    "from sklearn.model_selection import train_test_split\n",
    "from sklearn.preprocessing import StandardScaler\n",
    "from sklearn.neighbors import KNeighborsClassifier\n",
    "from sklearn.metrics import confusion_matrix\n",
    "import math\n",
    "import numpy as np\n",
    "\n",
    "def choose_k(dataframe):\n",
    "    rows = dataframe.shape[0]\n",
    "    k = int(math.sqrt(rows))\n",
    "    if k % 2 == 0:\n",
    "        k+=1\n",
    "    return k\n",
    "\n",
    "df = pd.read_csv('ov4-breast-cancer.csv')\n",
    "\n",
    "# Wash. Replace rows with values '?' with the mean of the current column\n",
    "df.replace('?', np.nan, inplace=True)\n",
    "df = df.apply(pd.to_numeric, errors='coerce')\n",
    "column_means = df.mean()\n",
    "df.fillna(column_means, inplace=True)    \n",
    "    \n",
    "y = df['classes']\n",
    "X = df.drop(columns=['classes'], axis=1)\n",
    "\n",
    "\n",
    "# Split data\n",
    "X_train, X_test, y_train, y_test = train_test_split(X, y, test_size=0.2)\n",
    "\n",
    "scaler = StandardScaler()\n",
    "scaler.fit(X_train)\n",
    "\n",
    "X_train_scaled = scaler.transform(X_train)\n",
    "X_test_scaled = scaler.transform(X_test)\n",
    "\n",
    "# Choose k\n",
    "k = choose_k(y_test)\n",
    "\n",
    "# Train\n",
    "knn = KNeighborsClassifier(n_neighbors=k, metric='euclidean')\n",
    "\n",
    "knn.fit(X_train_scaled, y_train)\n",
    "\n",
    "# Predict\n",
    "predicted_values = knn.predict(X_test_scaled)\n",
    "\n",
    "# Assess \n",
    "cm = confusion_matrix(y_test, predicted_values)\n",
    "print(cm)\n",
    "\n",
    "# My k value was 11 initially. After experimenting with other k-values I found out that there wasn't\n",
    "# any big difference between the results."
   ]
  }
 ],
 "metadata": {
  "kernelspec": {
   "display_name": "Python 3 (ipykernel)",
   "language": "python",
   "name": "python3"
  },
  "language_info": {
   "codemirror_mode": {
    "name": "ipython",
    "version": 3
   },
   "file_extension": ".py",
   "mimetype": "text/x-python",
   "name": "python",
   "nbconvert_exporter": "python",
   "pygments_lexer": "ipython3",
   "version": "3.9.7"
  }
 },
 "nbformat": 4,
 "nbformat_minor": 5
}
