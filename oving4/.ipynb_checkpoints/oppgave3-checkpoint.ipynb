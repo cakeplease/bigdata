{
 "cells": [
  {
   "cell_type": "code",
   "execution_count": 31,
   "id": "f9fa04b8",
   "metadata": {},
   "outputs": [
    {
     "name": "stdout",
     "output_type": "stream",
     "text": [
      "[[5321  461]\n",
      " [1464  766]]\n"
     ]
    }
   ],
   "source": [
    "import pandas as pd\n",
    "from sklearn.model_selection import train_test_split\n",
    "from sklearn.preprocessing import StandardScaler\n",
    "from sklearn.neighbors import KNeighborsClassifier\n",
    "from sklearn.metrics import confusion_matrix\n",
    "import math\n",
    "import numpy as np\n",
    "df = pd.read_csv('H1.csv')\n",
    "\n",
    "\n",
    "def choose_k(dataframe):\n",
    "    rows = dataframe.shape[0]\n",
    "    k = int(math.sqrt(rows))\n",
    "    if k % 2 == 0:\n",
    "        k+=1\n",
    "    return k\n",
    "\n",
    "X = df.filter(['ADR', 'BookingChanges', 'PreviousCancellations', 'PreviousBookingsNotCanceled', 'Adults', 'Children', 'Babies', 'IsRepeatedGuest', 'RequiredCarParkingSpaces', 'TotalOfSpecialRequests'], axis=1)\n",
    "y = df['IsCanceled']\n",
    "\n",
    "# Split data\n",
    "X_train, X_test, y_train, y_test = train_test_split(X, y, test_size=0.2)\n",
    "\n",
    "scaler = StandardScaler()\n",
    "scaler.fit(X_train)\n",
    "\n",
    "X_train_scaled = scaler.transform(X_train)\n",
    "X_test_scaled = scaler.transform(X_test)\n",
    "\n",
    "# Choose k\n",
    "k = choose_k(y_test)\n",
    "\n",
    "# Train\n",
    "knn = KNeighborsClassifier(n_neighbors=k, metric='euclidean')\n",
    "\n",
    "knn.fit(X_train_scaled, y_train)\n",
    "\n",
    "# Predict\n",
    "predicted_values = knn.predict(X_test_scaled)\n",
    "\n",
    "# Assess \n",
    "cm = confusion_matrix(y_test, predicted_values)\n",
    "print(cm)\n",
    "# The diagonal numers tell us how many true-positives and true-negatives we predicted.\n",
    "# We can see that we guessed most correctly.\n",
    "#[[5321  461]\n",
    "#[1464  766]]"
   ]
  }
 ],
 "metadata": {
  "kernelspec": {
   "display_name": "Python 3 (ipykernel)",
   "language": "python",
   "name": "python3"
  },
  "language_info": {
   "codemirror_mode": {
    "name": "ipython",
    "version": 3
   },
   "file_extension": ".py",
   "mimetype": "text/x-python",
   "name": "python",
   "nbconvert_exporter": "python",
   "pygments_lexer": "ipython3",
   "version": "3.9.7"
  }
 },
 "nbformat": 4,
 "nbformat_minor": 5
}
