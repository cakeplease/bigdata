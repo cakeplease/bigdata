{
 "cells": [
  {
   "cell_type": "code",
   "execution_count": 2,
   "id": "09ded891",
   "metadata": {},
   "outputs": [],
   "source": [
    "import pandas as pd\n",
    "import numpy as np\n",
    "from sklearn.linear_model import LinearRegression\n",
    "from sklearn.model_selection import train_test_split\n",
    "import matplotlib.pyplot as plt\n",
    "from sklearn.metrics import r2_score, mean_squared_error, mean_absolute_error"
   ]
  },
  {
   "cell_type": "code",
   "execution_count": 4,
   "id": "fbbb8110",
   "metadata": {},
   "outputs": [
    {
     "name": "stdout",
     "output_type": "stream",
     "text": [
      "[90.23095238]\n",
      "Germany\n"
     ]
    }
   ],
   "source": [
    "data = pd.read_csv('life-expectancy-data.csv')\n",
    "df = pd.DataFrame(data)\n",
    "new_df = df.dropna()\n",
    "\n",
    "countries = new_df['Country'].unique() #liste av alle landene\n",
    "predictions = {}\n",
    "\n",
    "#prediker levealder for hvert land\n",
    "for country in countries:\n",
    "    country_data = new_df[new_df['Country'] == country]\n",
    "    \n",
    "    X = np.array(country_data['Year']).reshape(-1, 1)\n",
    "    y = np.array(country_data['Life expectancy ']).reshape(-1, 1)\n",
    "\n",
    "    model = LinearRegression()\n",
    "    model.fit(X, y)\n",
    "    X_test = np.array(2020).reshape(-1,1)\n",
    "    predicted_life_expectancy = model.predict(X_test)[0]\n",
    "    predictions[country] = predicted_life_expectancy\n",
    "\n",
    "best_country = max(predictions, key=predictions.get)\n",
    "print(predictions[best_country])\n",
    "print(best_country)\n"
   ]
  }
 ],
 "metadata": {
  "kernelspec": {
   "display_name": "Python 3 (ipykernel)",
   "language": "python",
   "name": "python3"
  },
  "language_info": {
   "codemirror_mode": {
    "name": "ipython",
    "version": 3
   },
   "file_extension": ".py",
   "mimetype": "text/x-python",
   "name": "python",
   "nbconvert_exporter": "python",
   "pygments_lexer": "ipython3",
   "version": "3.9.7"
  }
 },
 "nbformat": 4,
 "nbformat_minor": 5
}
