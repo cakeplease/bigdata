{
 "cells": [
  {
   "cell_type": "markdown",
   "id": "efdbf496",
   "metadata": {},
   "source": [
    "Oppg1\n",
    "\n",
    "1. Last inn data og utforsk\n",
    "2. Legg rader for feature (independent variable) og target\n",
    "(dependent variable) egne variabler\n",
    "3. Del opp i treningsdata og testdata\n",
    "4. Tren modellen\n",
    "5. Predikér\n",
    "6. Vurder hvor god modellen er"
   ]
  },
  {
   "cell_type": "code",
   "execution_count": 129,
   "id": "ca05c570",
   "metadata": {},
   "outputs": [],
   "source": [
    "import pandas as pd\n",
    "import numpy as np\n",
    "from sklearn.linear_model import LinearRegression\n",
    "from sklearn.model_selection import train_test_split\n",
    "import matplotlib.pyplot as plt\n",
    "from sklearn.metrics import r2_score, mean_squared_error, mean_absolute_error"
   ]
  },
  {
   "cell_type": "code",
   "execution_count": 137,
   "id": "e8a4d735",
   "metadata": {},
   "outputs": [
    {
     "name": "stdout",
     "output_type": "stream",
     "text": [
      "R2 score:  0.5093548486921812\n",
      "Mean Squared Error:  37.425444187634554\n",
      "Mean Absolute Error:  4.6779971052503555\n",
      "Intercept:  [41.13288765]\n"
     ]
    },
    {
     "data": {
      "image/png": "[encoded data removed]",
      "text/plain": [
       "<Figure size 432x288 with 1 Axes>"
      ]
     },
     "metadata": {
      "needs_background": "light"
     },
     "output_type": "display_data"
    }
   ],
   "source": [
    "data = pd.read_csv('life-expectancy-data.csv')\n",
    "df = pd.DataFrame(data)\n",
    "new_df = df.dropna()\n",
    "#df.head()\n",
    "# X = np.array(new_df['Alcohol']).reshape(-1, 1)\n",
    "# X = np.array(new_df['percentage expenditure']).reshape(-1, 1)\n",
    "# X = np.array(new_df[' BMI ']).reshape(-1, 1)\n",
    "# X = np.array(new_df['GDP']).reshape(-1, 1)\n",
    "#X = np.array(new_df.filter(items=['Schooling', 'Alcohol', 'percentage expenditure', 'GDP'])).reshape(-1)\n",
    "\n",
    "X = np.array(new_df['Schooling']).reshape(-1, 1)\n",
    "y = np.array(new_df['Life expectancy ']).reshape(-1, 1)\n",
    "\n",
    "# X_train - er predictors som brukes for trening\n",
    "# X_test er predictors som vi tester modellen vår mot\n",
    "# y_train (legg merke til liten y) outcomes vi vet er “rett”\n",
    "# y_test er outcomes vi sammenlikner med for å kunne si hvor god modellen er\n",
    "X_train, X_test, y_train, y_test = train_test_split(X, y, test_size=0.2)\n",
    "lr = LinearRegression()\n",
    "lr.fit(X_train, y_train)\n",
    "\n",
    "y_pred = lr.predict(X_test)\n",
    "\n",
    "#Evaluate the performance of the model\n",
    "r2 = r2_score(y_test, y_pred)\n",
    "mse = mean_squared_error(y_test, y_pred)\n",
    "mae = mean_absolute_error(y_test, y_pred)\n",
    "intercept = lr.intercept_\n",
    "\n",
    "print(\"R2 score: \", r2)\n",
    "print(\"Mean Squared Error: \", mse)\n",
    "print(\"Mean Absolute Error: \", mae)\n",
    "print(\"Intercept: \", intercept)\n",
    "\n",
    "\n",
    "plt.scatter(y_test, y_pred, alpha=0.5)\n",
    "plt.plot([y.min(), y.max()], [y.min(), y.max()], color=\"red\")\n",
    "plt.xlabel(\"Actual data\")\n",
    "plt.ylabel(\"Predicted values\")\n",
    "plt.show()"
   ]
  },
  {
   "cell_type": "markdown",
   "id": "c3f0be6a",
   "metadata": {},
   "source": [
    "Oppgave 2"
   ]
  },
  {
   "cell_type": "code",
   "execution_count": 142,
   "id": "9f74ed74",
   "metadata": {},
   "outputs": [
    {
     "name": "stdout",
     "output_type": "stream",
     "text": [
      "['Afghanistan' 'Albania' 'Algeria' 'Angola' 'Antigua and Barbuda'\n",
      " 'Argentina' 'Armenia' 'Australia' 'Austria' 'Azerbaijan' 'Bahamas'\n",
      " 'Bahrain' 'Bangladesh' 'Barbados' 'Belarus' 'Belgium' 'Belize' 'Benin'\n",
      " 'Bhutan' 'Bolivia (Plurinational State of)' 'Bosnia and Herzegovina'\n",
      " 'Botswana' 'Brazil' 'Brunei Darussalam' 'Bulgaria' 'Burkina Faso'\n",
      " 'Burundi' \"Côte d'Ivoire\" 'Cabo Verde' 'Cambodia' 'Cameroon' 'Canada'\n",
      " 'Central African Republic' 'Chad' 'Chile' 'China' 'Colombia' 'Comoros'\n",
      " 'Congo' 'Cook Islands' 'Costa Rica' 'Croatia' 'Cuba' 'Cyprus' 'Czechia'\n",
      " \"Democratic People's Republic of Korea\"\n",
      " 'Democratic Republic of the Congo' 'Denmark' 'Djibouti' 'Dominica'\n",
      " 'Dominican Republic' 'Ecuador' 'Egypt' 'El Salvador' 'Equatorial Guinea'\n",
      " 'Eritrea' 'Estonia' 'Ethiopia' 'Fiji' 'Finland' 'France' 'Gabon' 'Gambia'\n",
      " 'Georgia' 'Germany' 'Ghana' 'Greece' 'Grenada' 'Guatemala' 'Guinea'\n",
      " 'Guinea-Bissau' 'Guyana' 'Haiti' 'Honduras' 'Hungary' 'Iceland' 'India'\n",
      " 'Indonesia' 'Iran (Islamic Republic of)' 'Iraq' 'Ireland' 'Israel'\n",
      " 'Italy' 'Jamaica' 'Japan' 'Jordan' 'Kazakhstan' 'Kenya' 'Kiribati'\n",
      " 'Kuwait' 'Kyrgyzstan' \"Lao People's Democratic Republic\" 'Latvia'\n",
      " 'Lebanon' 'Lesotho' 'Liberia' 'Libya' 'Lithuania' 'Luxembourg'\n",
      " 'Madagascar' 'Malawi' 'Malaysia' 'Maldives' 'Mali' 'Malta'\n",
      " 'Marshall Islands' 'Mauritania' 'Mauritius' 'Mexico'\n",
      " 'Micronesia (Federated States of)' 'Monaco' 'Mongolia' 'Montenegro'\n",
      " 'Morocco' 'Mozambique' 'Myanmar' 'Namibia' 'Nauru' 'Nepal' 'Netherlands'\n",
      " 'New Zealand' 'Nicaragua' 'Niger' 'Nigeria' 'Niue' 'Norway' 'Oman'\n",
      " 'Pakistan' 'Palau' 'Panama' 'Papua New Guinea' 'Paraguay' 'Peru'\n",
      " 'Philippines' 'Poland' 'Portugal' 'Qatar' 'Republic of Korea'\n",
      " 'Republic of Moldova' 'Romania' 'Russian Federation' 'Rwanda'\n",
      " 'Saint Kitts and Nevis' 'Saint Lucia' 'Saint Vincent and the Grenadines'\n",
      " 'Samoa' 'San Marino' 'Sao Tome and Principe' 'Saudi Arabia' 'Senegal'\n",
      " 'Serbia' 'Seychelles' 'Sierra Leone' 'Singapore' 'Slovakia' 'Slovenia'\n",
      " 'Solomon Islands' 'Somalia' 'South Africa' 'South Sudan' 'Spain'\n",
      " 'Sri Lanka' 'Sudan' 'Suriname' 'Swaziland' 'Sweden' 'Switzerland'\n",
      " 'Syrian Arab Republic' 'Tajikistan' 'Thailand'\n",
      " 'The former Yugoslav republic of Macedonia' 'Timor-Leste' 'Togo' 'Tonga'\n",
      " 'Trinidad and Tobago' 'Tunisia' 'Turkey' 'Turkmenistan' 'Tuvalu' 'Uganda'\n",
      " 'Ukraine' 'United Arab Emirates'\n",
      " 'United Kingdom of Great Britain and Northern Ireland'\n",
      " 'United Republic of Tanzania' 'United States of America' 'Uruguay'\n",
      " 'Uzbekistan' 'Vanuatu' 'Venezuela (Bolivarian Republic of)' 'Viet Nam'\n",
      " 'Yemen' 'Zambia' 'Zimbabwe']\n"
     ]
    }
   ],
   "source": [
    "df_2 = pd.DataFrame(data)\n",
    "\n",
    "# X = np.array(new_df.filter(items=['Year', 'Schooling'])).reshape(-1)\n",
    "# y = np.array(new_df['Life expectancy ']).reshape(-1, 1)\n",
    "\n",
    "countries = df_2['Country'].unique()\n",
    "predictions = {}\n",
    "\n",
    "# Perform linear regression for each country\n",
    "for country in countries:\n",
    "    country_data = df_2[df_2['Country'] == country]\n",
    "    X = country_data['Year'].values.reshape(-1, 1)\n",
    "    y = country_data['Life expectancy '].values\n",
    "\n",
    "    model = LinearRegression()\n",
    "    model.fit(X, y)\n",
    "\n",
    "    # Predict life expectancy for 2020\n",
    "    predicted_life_expectancy = model.predict([[2020]])[0]\n",
    "    predictions[country] = predicted_life_expectancy\n",
    "\n",
    "# Find the country with the highest predicted life expectancy in 2020\n",
    "best_country = max(predictions, key=predictions.get)\n",
    "print(f\"The country likely to have the best life expectancy in 2020 is {best_country} with a predicted value of {predictions[best_country]}\")"
   ]
  },
  {
   "cell_type": "code",
   "execution_count": null,
   "id": "06169661",
   "metadata": {},
   "outputs": [],
   "source": []
  },
  {
   "cell_type": "code",
   "execution_count": 138,
   "id": "f5a30df7",
   "metadata": {},
   "outputs": [],
   "source": [
    "# X = np.array(df_2020['Year']).reshape(-1, 1)          \n",
    "# y =  np.array(df_2020['Life expectancy ']).reshape(-1, 1)\n",
    "# #X_train, X_test, y_train, y_test = train_test_split(X, y, test_size=0.2)\n",
    "\n",
    "# model = LinearRegression()\n",
    "# model.fit(X, y)\n",
    "\n",
    "# year_2020 = np.array([[2020]])\n",
    "# y_pred = model.predict(year_2020)\n",
    "\n",
    "# #print(round(y_pred[0][0], 1))\n",
    "# y_pred = y_pred[0][0]\n",
    "# #print(new_df['Life expectancy '])\n",
    "\n",
    "# new_df['Prediction'] = model.predict(df_2020[['Year']])\n",
    "\n",
    "# #best_country = new_df[new_df['Life expectancy '] == y_pred]\n",
    "# best_country = new_df.iloc[(df_2020['Prediction'] - y_pred).abs().argsort()[:1]]\n",
    "# pred = best_country['Prediction'].values[0]\n",
    "\n",
    "# best_country_name = best_country['Country'].values[0]\n",
    "# best_country_prediction = best_country['Prediction'].values[0]\n",
    "\n",
    "# print(best_country_prediction)\n",
    "# print(best_country_name)\n"
   ]
  },
  {
   "cell_type": "code",
   "execution_count": null,
   "id": "a1c7b97a",
   "metadata": {},
   "outputs": [],
   "source": []
  },
  {
   "cell_type": "code",
   "execution_count": null,
   "id": "7802796c",
   "metadata": {},
   "outputs": [],
   "source": []
  },
  {
   "cell_type": "code",
   "execution_count": null,
   "id": "f6156fb9",
   "metadata": {},
   "outputs": [],
   "source": []
  }
 ],
 "metadata": {
  "kernelspec": {
   "display_name": "Python 3 (ipykernel)",
   "language": "python",
   "name": "python3"
  },
  "language_info": {
   "codemirror_mode": {
    "name": "ipython",
    "version": 3
   },
   "file_extension": ".py",
   "mimetype": "text/x-python",
   "name": "python",
   "nbconvert_exporter": "python",
   "pygments_lexer": "ipython3",
   "version": "3.9.7"
  }
 },
 "nbformat": 4,
 "nbformat_minor": 5
}
