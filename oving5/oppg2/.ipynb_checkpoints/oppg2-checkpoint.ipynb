{
 "cells": [
  {
   "cell_type": "code",
   "execution_count": 5,
   "id": "faec16c6",
   "metadata": {},
   "outputs": [],
   "source": [
    "import pandas as pd\n",
    "from sklearn.model_selection import train_test_split\n",
    "from sklearn.tree import DecisionTreeClassifier\n",
    "from sklearn.metrics import classification_report\n",
    "from sklearn import tree\n",
    "import numpy as np"
   ]
  },
  {
   "cell_type": "code",
   "execution_count": 10,
   "id": "f5abba94",
   "metadata": {},
   "outputs": [
    {
     "name": "stdout",
     "output_type": "stream",
     "text": [
      "              precision    recall  f1-score   support\n",
      "\n",
      "           0       0.97      0.98      0.97        96\n",
      "           1       0.95      0.93      0.94        44\n",
      "\n",
      "    accuracy                           0.96       140\n",
      "   macro avg       0.96      0.96      0.96       140\n",
      "weighted avg       0.96      0.96      0.96       140\n",
      "\n"
     ]
    }
   ],
   "source": [
    "df = pd.read_csv('ov4-breast-cancer.csv')\n",
    "\n",
    "# Clean up\n",
    "df.replace('?', np.nan, inplace=True)\n",
    "df = df.apply(pd.to_numeric, errors='coerce')\n",
    "column_means = df.mean()\n",
    "df.fillna(column_means, inplace=True)    \n",
    "    \n",
    "y = df['classes']\n",
    "X = df.drop(columns=['classes'], axis=1)\n",
    "\n",
    "# Split data\n",
    "X_train, X_test, y_train, y_test = train_test_split(X, y, test_size=0.2)\n",
    "\n",
    "# Train the model\n",
    "classifier = DecisionTreeClassifier(min_impurity_decrease=0.01, max_depth=5)\n",
    "classifier.fit(X_train, y_train)\n",
    "\n",
    "# Predict result\n",
    "y_pred = classifier.predict(X_test)\n",
    "\n",
    "# Evaluate result\n",
    "report = classification_report(y_test, y_pred)\n",
    "print(report)\n",
    "\n",
    "\n",
    "\n",
    "# Generate the tree file\n",
    "dotfile = open(\"./dtree1.dot\", 'w')\n",
    "# Classes are marked with y[0] and y[1] where y[0] means person not surviving, and vice versa. \n",
    "ditfile = tree.export_graphviz(classifier, out_file = dotfile, feature_names = X.columns, class_names=True)\n",
    "dotfile.close()\n",
    "\n",
    "# Screenshot of the tree is in the project's folder. The file is called tree.png.\n",
    "\n",
    "# Answer: It seems that this method is better because you can visually see how the \n",
    "# factors influence the predictions underway in the process of decision making."
   ]
  }
 ],
 "metadata": {
  "kernelspec": {
   "display_name": "Python 3 (ipykernel)",
   "language": "python",
   "name": "python3"
  },
  "language_info": {
   "codemirror_mode": {
    "name": "ipython",
    "version": 3
   },
   "file_extension": ".py",
   "mimetype": "text/x-python",
   "name": "python",
   "nbconvert_exporter": "python",
   "pygments_lexer": "ipython3",
   "version": "3.9.7"
  }
 },
 "nbformat": 4,
 "nbformat_minor": 5
}
