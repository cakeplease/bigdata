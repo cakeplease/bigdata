{
 "cells": [
  {
   "cell_type": "code",
   "execution_count": 9,
   "id": "31268cc7",
   "metadata": {},
   "outputs": [],
   "source": [
    "import pandas as pd\n",
    "from sklearn.model_selection import train_test_split\n",
    "from sklearn.tree import DecisionTreeRegressor\n",
    "from sklearn import tree"
   ]
  },
  {
   "cell_type": "code",
   "execution_count": 28,
   "id": "bdf85526",
   "metadata": {},
   "outputs": [
    {
     "name": "stdout",
     "output_type": "stream",
     "text": [
      "Training score: -2.220446049250313e-16\n",
      "Testing score: -0.006256970394353578\n"
     ]
    }
   ],
   "source": [
    "df = pd.read_csv('boston-housing-reduced.csv')\n",
    "\n",
    "df.head()\n",
    "# RM - the average number of rooms per dwelling\n",
    "# RAD - the index of accessibility to radial highways\n",
    "# INDUS - the proportion of non-retail business acres per town\n",
    "# TAX - the full-valueproperty-tax rate per $10 000\n",
    "# MEDV - median value\n",
    "\n",
    "y = df['MEDV']\n",
    "X = df.drop('MEDV', axis=1)\n",
    "# Split data\n",
    "X_train, X_test, y_train, y_test = train_test_split(X, y, test_size=0.10)\n",
    "\n",
    "\n",
    "# Train model\n",
    "regr = DecisionTreeRegressor(max_depth=6, min_impurity_decrease=20000 ** 2)  \n",
    "regr.fit(X_train, y_train)\n",
    "\n",
    "# Test tree\n",
    "y_pred = regr.predict(X_test) \n",
    "\n",
    "print(\"Training score: \" + format(regr.score(X_train,y_train)))\n",
    "print(\"Testing score: \" + format(regr.score(X_test,y_test)))\n",
    "\n",
    "# Display tree\n",
    "dotfile = open(\"./dtree2.dot\", 'w')\n",
    "ditfile = tree.export_graphviz(regr, out_file = dotfile, feature_names = X.columns)\n",
    "dotfile.close()\n",
    "\n",
    "# We can see that out testing score (R squared) is slightly negative, that means our model's \"fit\" isn't good. \n",
    "# From our tree we can see that mse = 87.01. This large mean squared error indicated that our data \n",
    "# points are spread widely around its central moment, and that we have a quite bad estimator."
   ]
  }
 ],
 "metadata": {
  "kernelspec": {
   "display_name": "Python 3 (ipykernel)",
   "language": "python",
   "name": "python3"
  },
  "language_info": {
   "codemirror_mode": {
    "name": "ipython",
    "version": 3
   },
   "file_extension": ".py",
   "mimetype": "text/x-python",
   "name": "python",
   "nbconvert_exporter": "python",
   "pygments_lexer": "ipython3",
   "version": "3.9.7"
  }
 },
 "nbformat": 4,
 "nbformat_minor": 5
}
