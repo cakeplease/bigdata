{
 "cells": [
  {
   "cell_type": "code",
   "execution_count": 52,
   "id": "25017b30",
   "metadata": {},
   "outputs": [],
   "source": [
    "import pandas as pd\n",
    "from sklearn.model_selection import train_test_split\n",
    "from sklearn.tree import DecisionTreeClassifier\n",
    "from sklearn.metrics import classification_report\n",
    "from sklearn import tree"
   ]
  },
  {
   "cell_type": "code",
   "execution_count": 67,
   "id": "1682fc8c",
   "metadata": {},
   "outputs": [
    {
     "name": "stdout",
     "output_type": "stream",
     "text": [
      "              precision    recall  f1-score   support\n",
      "\n",
      "           0       0.75      0.94      0.84        84\n",
      "           1       0.87      0.56      0.68        59\n",
      "\n",
      "    accuracy                           0.78       143\n",
      "   macro avg       0.81      0.75      0.76       143\n",
      "weighted avg       0.80      0.78      0.77       143\n",
      "\n"
     ]
    }
   ],
   "source": [
    "# Load data\n",
    "df = pd.read_csv('titanic.csv')\n",
    "\n",
    "# Clean up\n",
    "df = df[df['Age'].notnull()]\n",
    "cleanup_nums = {\"Sex\": {\"male\": 1, \"female\": 0}}\n",
    "df = df.replace(cleanup_nums)\n",
    "y = df['Survived']\n",
    "X = df.drop('Survived', axis=1)\n",
    "\n",
    "# Split up data\n",
    "X_train, X_test, y_train, y_test = train_test_split(X, y, test_size=0.2)\n",
    "\n",
    "# Train the model\n",
    "classifier = DecisionTreeClassifier(min_impurity_decrease=0.01, max_depth=5)\n",
    "classifier.fit(X_train, y_train)\n",
    "\n",
    "# Predict result\n",
    "y_pred = classifier.predict(X_test)\n",
    "\n",
    "# Evaluate result\n",
    "report = classification_report(y_test, y_pred)\n",
    "print(report)\n",
    "\n",
    "# Generate the tree file\n",
    "dotfile = open(\"./dtree1.dot\", 'w')\n",
    "# Classes are marked with y[0] and y[1] where y[0] means person not surviving, and vice versa. \n",
    "ditfile = tree.export_graphviz(classifier, out_file = dotfile, feature_names = X.columns, class_names=True)\n",
    "dotfile.close()\n",
    "\n",
    "# Screenshot of the tree is in the project's folder. The file is called tree.png.\n"
   ]
  }
 ],
 "metadata": {
  "kernelspec": {
   "display_name": "Python 3 (ipykernel)",
   "language": "python",
   "name": "python3"
  },
  "language_info": {
   "codemirror_mode": {
    "name": "ipython",
    "version": 3
   },
   "file_extension": ".py",
   "mimetype": "text/x-python",
   "name": "python",
   "nbconvert_exporter": "python",
   "pygments_lexer": "ipython3",
   "version": "3.9.7"
  }
 },
 "nbformat": 4,
 "nbformat_minor": 5
}
