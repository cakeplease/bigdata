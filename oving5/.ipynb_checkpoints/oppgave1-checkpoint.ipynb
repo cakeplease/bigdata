{
 "cells": [
  {
   "cell_type": "code",
   "execution_count": 52,
   "id": "e6e4166b",
   "metadata": {},
   "outputs": [],
   "source": [
    "import pandas as pd\n",
    "from sklearn.model_selection import train_test_split\n",
    "from sklearn.tree import DecisionTreeClassifier\n",
    "from sklearn.metrics import classification_report\n",
    "from sklearn import tree"
   ]
  },
  {
   "cell_type": "code",
   "execution_count": 66,
   "id": "eafe4ff0",
   "metadata": {},
   "outputs": [
    {
     "name": "stdout",
     "output_type": "stream",
     "text": [
      "   Survived     Sex   Age  Class\n",
      "0         0    male  22.0      3\n",
      "1         1  female  38.0      1\n",
      "2         1  female  26.0      3\n",
      "3         1  female  35.0      1\n",
      "4         0    male  35.0      3\n",
      "[1 0 0 1 0 0 0 0 0 0 1 0 0 0 1 0 0 0 0 0 1 0 0 1 0 1 0 0 1 0 0 0 1 0 1 0 0\n",
      " 1 0 1 0 0 0 0 0 0 0 0 0 1 0 0 0 1 0 0 0 1 0 0 0 0 0 0 1 1 0 0 0 0 0 0 0 1\n",
      " 0 0 0 1 0 1 1 1 1 1 0 0 0 1 0 0 1 0 0 0 0 0 0 0 0 0 1 0 0 0 0 0 0 0 0 0 1\n",
      " 1 0 0 0 0 1 0 0 1 0 0 0 0 0 1 0 0 1 0 0 0 1 0 0 0 1 0 1 1 0 0 0]\n",
      "              precision    recall  f1-score   support\n",
      "\n",
      "           0       0.73      0.95      0.82        81\n",
      "           1       0.89      0.53      0.67        62\n",
      "\n",
      "    accuracy                           0.77       143\n",
      "   macro avg       0.81      0.74      0.75       143\n",
      "weighted avg       0.80      0.77      0.76       143\n",
      "\n"
     ]
    }
   ],
   "source": [
    "df = pd.read_csv('titanic.csv')\n",
    "\n",
    "# Clean up\n",
    "df = df[df['Age'].notnull()]\n",
    "cleanup_nums = {\"Sex\": {\"male\": 1, \"female\": 0}}\n",
    "df = df.replace(cleanup_nums)\n",
    "y = df['Survived']\n",
    "X = df.drop('Survived', axis=1)\n",
    "\n",
    "# Split up data\n",
    "X_train, X_test, y_train, y_test = train_test_split(X, y, test_size=0.2)\n",
    "\n",
    "# Train the model\n",
    "classifier = DecisionTreeClassifier(min_impurity_decrease=0.01, max_depth=5)\n",
    "classifier.fit(X_train, y_train)\n",
    "\n",
    "# Predict result\n",
    "y_pred = classifier.predict(X_test)\n",
    "\n",
    "# Evaluate result\n",
    "report = classification_report(y_test, y_pred)\n",
    "print(report)\n",
    "\n",
    "# Generate the tree file\n",
    "dotfile = open(\"./dtree1.dot\", 'w')\n",
    "# Classes are marked with y[0] and y[1] where y[0] means person not surviving, and vice versa. \n",
    "ditfile = tree.export_graphviz(classifier, out_file = dotfile, feature_names = X.columns, class_names=True)\n",
    "dotfile.close()\n",
    "\n",
    "# Screenshot of the tree is in the project's folder. The file is called tree.png.\n"
   ]
  },
  {
   "cell_type": "code",
   "execution_count": null,
   "id": "76117560",
   "metadata": {},
   "outputs": [],
   "source": []
  },
  {
   "cell_type": "code",
   "execution_count": null,
   "id": "97a19330",
   "metadata": {},
   "outputs": [],
   "source": []
  },
  {
   "cell_type": "code",
   "execution_count": null,
   "id": "b6c47382",
   "metadata": {},
   "outputs": [],
   "source": []
  }
 ],
 "metadata": {
  "kernelspec": {
   "display_name": "Python 3 (ipykernel)",
   "language": "python",
   "name": "python3"
  },
  "language_info": {
   "codemirror_mode": {
    "name": "ipython",
    "version": 3
   },
   "file_extension": ".py",
   "mimetype": "text/x-python",
   "name": "python",
   "nbconvert_exporter": "python",
   "pygments_lexer": "ipython3",
   "version": "3.9.7"
  }
 },
 "nbformat": 4,
 "nbformat_minor": 5
}
