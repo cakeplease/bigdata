{
 "cells": [
  {
   "cell_type": "code",
   "execution_count": 41,
   "id": "92adb918-bacd-47e4-94e7-45f8b628cb52",
   "metadata": {},
   "outputs": [
    {
     "name": "stdout",
     "output_type": "stream",
     "text": [
      "Country\n",
      "PRT    34471\n",
      "GBR    13631\n",
      "ESP     8543\n",
      "IRL     4452\n",
      "FRA     3287\n",
      "DEU     2224\n",
      "CN      1480\n",
      "USA     1073\n",
      "NLD     1017\n",
      "CHE      953\n",
      "Name: customers, dtype: int64\n"
     ]
    }
   ],
   "source": [
    "#1\n",
    "\n",
    "import pandas as pd\n",
    "\n",
    "df = pd.read_csv('H1.csv')\n",
    "\n",
    "df['customers'] = df['Adults'] + df['Children'] + df['Babies']\n",
    "country_customers = df.groupby('Country')['customers'].sum()\n",
    "\n",
    "top_10_countries = country_customers.sort_values(ascending=False).head(10)\n",
    "\n",
    "print(top_10_countries)"
   ]
  },
  {
   "cell_type": "code",
   "execution_count": 42,
   "id": "8be272f6-be59-4c4f-88ff-cc731a966563",
   "metadata": {},
   "outputs": [],
   "source": [
    "filtered_df = df[df['IsCanceled'] != 1]\n",
    "#print(filtered_df.info())\n",
    "\n",
    "#distinct_values = df['IsCanceled'].unique()\n",
    "#print(filtered_df)\n",
    "\n",
    "\n"
   ]
  },
  {
   "cell_type": "code",
   "execution_count": null,
   "id": "345a5240-2282-45f1-8342-9a76f4368797",
   "metadata": {},
   "outputs": [],
   "source": []
  }
 ],
 "metadata": {
  "kernelspec": {
   "display_name": "Python 3 (ipykernel)",
   "language": "python",
   "name": "python3"
  },
  "language_info": {
   "codemirror_mode": {
    "name": "ipython",
    "version": 3
   },
   "file_extension": ".py",
   "mimetype": "text/x-python",
   "name": "python",
   "nbconvert_exporter": "python",
   "pygments_lexer": "ipython3",
   "version": "3.10.12"
  }
 },
 "nbformat": 4,
 "nbformat_minor": 5
}
