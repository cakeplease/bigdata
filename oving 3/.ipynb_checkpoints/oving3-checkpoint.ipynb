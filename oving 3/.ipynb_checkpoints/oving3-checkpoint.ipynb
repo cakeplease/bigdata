{
 "cells": [
  {
   "cell_type": "code",
   "execution_count": 1,
   "id": "92adb918-bacd-47e4-94e7-45f8b628cb52",
   "metadata": {},
   "outputs": [
    {
     "name": "stdout",
     "output_type": "stream",
     "text": [
      "Country\n",
      "PRT    34471\n",
      "GBR    13631\n",
      "ESP     8543\n",
      "IRL     4452\n",
      "FRA     3287\n",
      "DEU     2224\n",
      "CN      1480\n",
      "USA     1073\n",
      "NLD     1017\n",
      "CHE      953\n",
      "Name: customers, dtype: int64\n"
     ]
    }
   ],
   "source": [
    "#1\n",
    "\n",
    "import pandas as pd\n",
    "\n",
    "df = pd.read_csv('H1.csv')\n",
    "\n",
    "#Grunnet mangel på definisjon av en kunde, regner jeg med alle personer på bestillingen\n",
    "df['customers'] = df['Adults'] + df['Children'] + df['Babies']\n",
    "country_customers = df.groupby('Country')['customers'].sum()\n",
    "\n",
    "top_10_countries = country_customers.sort_values(ascending=False).head(10)\n",
    "\n",
    "print(top_10_countries)"
   ]
  },
  {
   "cell_type": "code",
   "execution_count": 2,
   "id": "8be272f6-be59-4c4f-88ff-cc731a966563",
   "metadata": {},
   "outputs": [
    {
     "name": "stdout",
     "output_type": "stream",
     "text": [
      "MarketSegment\n",
      "Complementary       2069.53\n",
      "Corporate         212236.79\n",
      "Groups            888304.26\n",
      "Direct           2441868.50\n",
      "Offline TA/TO    3105513.25\n",
      "Online TA        4951857.90\n",
      "Name: profit, dtype: float64\n"
     ]
    }
   ],
   "source": [
    "# 2\n",
    "filtered_df = df.copy()  # make copy of the original dataFrame to avoid SettingWithCopyWarning\n",
    "filtered_df = filtered_df[filtered_df['IsCanceled'] != 1] # filter out cancelled reservations\n",
    "\n",
    "filtered_df['profit'] = filtered_df['ADR'] * (filtered_df['StaysInWeekendNights'] + filtered_df['StaysInWeekNights']) #calculate the profit\n",
    "profit_per_market_segment = filtered_df.groupby('MarketSegment')['profit'].sum().sort_values() # calculate profit per market segment and sort values for readability\n",
    "\n",
    "print(profit_per_market_segment)"
   ]
  },
  {
   "cell_type": "code",
   "execution_count": 79,
   "id": "345a5240-2282-45f1-8342-9a76f4368797",
   "metadata": {},
   "outputs": [
    {
     "data": {
      "image/png": "[encoded data removed]",
      "text/plain": [
       "<Figure size 640x480 with 1 Axes>"
      ]
     },
     "metadata": {},
     "output_type": "display_data"
    }
   ],
   "source": [
    "# 3\n",
    "from matplotlib import pyplot as plt\n",
    "\n",
    "adr = plt.hist(df['ADR'], bins=50, rwidth=0.5, range=(0, 510))\n",
    "plt.grid(True)\n",
    "\n",
    "plt.show()"
   ]
  },
  {
   "cell_type": "code",
   "execution_count": 3,
   "id": "0f25df6f-3738-4ac2-ba41-43f25c151e59",
   "metadata": {},
   "outputs": [
    {
     "name": "stdout",
     "output_type": "stream",
     "text": [
      "ArrivalDateMonth\n",
      "January      128.712658\n",
      "February     158.852717\n",
      "March        211.708898\n",
      "April        258.685956\n",
      "May          288.328468\n",
      "June         526.379693\n",
      "July         818.228994\n",
      "August       948.799674\n",
      "September    492.516967\n",
      "October      263.526608\n",
      "November     178.098896\n",
      "December     244.755326\n",
      "Name: profit, dtype: float64\n"
     ]
    },
    {
     "ename": "NameError",
     "evalue": "name 'plt' is not defined",
     "output_type": "error",
     "traceback": [
      "\u001b[1;31m---------------------------------------------------------------------------\u001b[0m",
      "\u001b[1;31mNameError\u001b[0m                                 Traceback (most recent call last)",
      "\u001b[1;32m~\\AppData\\Local\\Temp/ipykernel_10276/3131798122.py\u001b[0m in \u001b[0;36m<module>\u001b[1;34m\u001b[0m\n\u001b[0;32m     16\u001b[0m \u001b[0mx\u001b[0m \u001b[1;33m=\u001b[0m \u001b[0mavg_price_per_month_sorted\u001b[0m\u001b[1;33m.\u001b[0m\u001b[0mindex\u001b[0m \u001b[1;31m# months, our x axis\u001b[0m\u001b[1;33m\u001b[0m\u001b[1;33m\u001b[0m\u001b[0m\n\u001b[0;32m     17\u001b[0m \u001b[1;33m\u001b[0m\u001b[0m\n\u001b[1;32m---> 18\u001b[1;33m \u001b[0mfig\u001b[0m\u001b[1;33m,\u001b[0m \u001b[0max1\u001b[0m \u001b[1;33m=\u001b[0m \u001b[0mplt\u001b[0m\u001b[1;33m.\u001b[0m\u001b[0msubplots\u001b[0m\u001b[1;33m(\u001b[0m\u001b[0mfigsize\u001b[0m\u001b[1;33m=\u001b[0m\u001b[1;33m[\u001b[0m\u001b[1;36m10\u001b[0m\u001b[1;33m,\u001b[0m\u001b[1;36m6\u001b[0m\u001b[1;33m]\u001b[0m\u001b[1;33m)\u001b[0m\u001b[1;33m\u001b[0m\u001b[1;33m\u001b[0m\u001b[0m\n\u001b[0m\u001b[0;32m     19\u001b[0m \u001b[1;33m\u001b[0m\u001b[0m\n\u001b[0;32m     20\u001b[0m \u001b[0max1\u001b[0m\u001b[1;33m.\u001b[0m\u001b[0mplot\u001b[0m\u001b[1;33m(\u001b[0m\u001b[0mx\u001b[0m\u001b[1;33m,\u001b[0m \u001b[0mavg_price_per_month_sorted\u001b[0m\u001b[1;33m.\u001b[0m\u001b[0mvalues\u001b[0m\u001b[1;33m,\u001b[0m \u001b[0mlabel\u001b[0m\u001b[1;33m=\u001b[0m\u001b[1;34m'Average profit from all rooms per month'\u001b[0m\u001b[1;33m,\u001b[0m \u001b[0mcolor\u001b[0m\u001b[1;33m=\u001b[0m\u001b[1;34m'purple'\u001b[0m\u001b[1;33m)\u001b[0m \u001b[1;31m# first plot with average profit per month\u001b[0m\u001b[1;33m\u001b[0m\u001b[1;33m\u001b[0m\u001b[0m\n",
      "\u001b[1;31mNameError\u001b[0m: name 'plt' is not defined"
     ]
    }
   ],
   "source": [
    "# 4\n",
    "month_names = ['January', 'February', 'March', 'April', 'May', 'June', 'July', 'August', 'September', 'October', 'November', 'December']\n",
    "\n",
    "df_2016 = df.copy()\n",
    "df_2016 = df_2016[df_2016['ArrivalDateYear'] == 2016] # Filter out other years\n",
    "\n",
    "df_2016['profit'] = df_2016['ADR'] * (df_2016['StaysInWeekendNights'] + df_2016['StaysInWeekNights']) #calculate the profit for 2016\n",
    "\n",
    "avg_price_per_month = df_2016.groupby('ArrivalDateMonth')['profit'].mean() # calculate average profit per month\n",
    "avg_price_per_month_sorted = avg_price_per_month.reindex(month_names) # sort data based on month\n",
    "\n",
    "canceled_reservations = df_2016.groupby('ArrivalDateMonth')['IsCanceled'].sum() # sum canceled reservations per month\n",
    "canceled_reservations_sorted = canceled_reservations.reindex(month_names) # sort data based on month\n",
    "\n",
    "x = avg_price_per_month_sorted.index # months, our x axis\n",
    "\n",
    "fig, ax1 = plt.subplots(figsize=[10,6])\n",
    "\n",
    "ax1.plot(x, avg_price_per_month_sorted.values, label='Average profit from all rooms per month', color='purple') # first plot with average profit per month\n",
    "ax1.plot(x, canceled_reservations_sorted.values, label='Canceled reservations', color='hotpink') # second plot, sum of canceled reservations\n",
    "ax1.set_xlabel('Months')\n",
    "ax1.set_ylabel('Profit/Canceled reservations')\n",
    "ax1.legend()\n",
    "plt.grid(True)\n",
    "plt.tight_layout()\n",
    "plt.show()\n"
   ]
  }
 ],
 "metadata": {
  "kernelspec": {
   "display_name": "Python 3 (ipykernel)",
   "language": "python",
   "name": "python3"
  },
  "language_info": {
   "codemirror_mode": {
    "name": "ipython",
    "version": 3
   },
   "file_extension": ".py",
   "mimetype": "text/x-python",
   "name": "python",
   "nbconvert_exporter": "python",
   "pygments_lexer": "ipython3",
   "version": "3.9.7"
  }
 },
 "nbformat": 4,
 "nbformat_minor": 5
}
